{
 "cells": [
  {
   "cell_type": "code",
   "execution_count": 171,
   "id": "e4c3ca76",
   "metadata": {},
   "outputs": [
    {
     "name": "stdout",
     "output_type": "stream",
     "text": [
      "Case #1: 1\n",
      "Case #2: 5\n"
     ]
    }
   ],
   "source": [
    "'''\n",
    "Docstring\n",
    "'''\n",
    "def Solve(N, M, C):\n",
    "    remainder = 0\n",
    "    for i in range(0,N):\n",
    "        remainder = remainder + (C[i] % M)\n",
    "        remainder = remainder % M\n",
    "    return remainder\n",
    "\n",
    "\n",
    "with open(\"sample_test_set_1/sample_ts1_input.txt\", encoding = 'utf-8') as f:\n",
    "    data = [list(map(int, line.strip().split(' '))) for line in f]\n",
    "    \n",
    "    \n",
    "count = 0\n",
    "for i in range(len(data)-1):\n",
    "    if i % 2 == 0:\n",
    "        count += 1\n",
    "        N = data[i+1][0]\n",
    "        M = data[i+1][1]       \n",
    "    else:\n",
    "        C = data[i+1]\n",
    "        remainder = Solve(N,M,C)\n",
    "        print(\"Case #{}: {}\".format(count, remainder))\n",
    "  \n",
    "\n",
    "\n"
   ]
  },
  {
   "cell_type": "code",
   "execution_count": 142,
   "id": "f52c425e",
   "metadata": {},
   "outputs": [
    {
     "name": "stdout",
     "output_type": "stream",
     "text": [
      "[[2], [7, 3], [1, 2, 3, 4, 5, 6, 7], [5, 10], [7, 7, 7, 7, 7]]\n"
     ]
    }
   ],
   "source": [
    "\n",
    "with open(\"sample_test_set_1/sample_ts1_input.txt\", encoding = 'utf-8') as f:\n",
    "    data = [list(map(int, line.strip().split(' '))) for line in f]\n",
    "print(data)\n"
   ]
  },
  {
   "cell_type": "code",
   "execution_count": 151,
   "id": "05991dab",
   "metadata": {},
   "outputs": [],
   "source": [
    "for i in range(len(data)-1):\n",
    "    if i % 2 == 0:        \n",
    "        N = data[i+1][0]\n",
    "        M = data[i+1][1]\n",
    "        \n",
    "    else:\n",
    "        C = data[i+1]\n",
    "        Solve(N,M,C)\n",
    "        \n"
   ]
  },
  {
   "cell_type": "code",
   "execution_count": null,
   "id": "1214d523",
   "metadata": {},
   "outputs": [],
   "source": []
  },
  {
   "cell_type": "code",
   "execution_count": null,
   "id": "01b163dc",
   "metadata": {},
   "outputs": [],
   "source": []
  },
  {
   "cell_type": "code",
   "execution_count": 72,
   "id": "d884d04b",
   "metadata": {},
   "outputs": [
    {
     "name": "stdout",
     "output_type": "stream",
     "text": [
      "['2' '7 3' '1 2 3 4 5 6 7' '5 10' '7 7 7 7 7']\n"
     ]
    }
   ],
   "source": [
    "import numpy as np\n",
    "\n",
    "array = np.loadtxt('sample_test_set_1/sample_ts1_input.txt', delimiter=\",\", dtype=str)\n",
    "print(array)"
   ]
  },
  {
   "cell_type": "code",
   "execution_count": null,
   "id": "de6b7ed5",
   "metadata": {},
   "outputs": [],
   "source": []
  },
  {
   "cell_type": "code",
   "execution_count": null,
   "id": "e9aeec7c",
   "metadata": {},
   "outputs": [],
   "source": []
  },
  {
   "cell_type": "code",
   "execution_count": null,
   "id": "456cd2a7",
   "metadata": {},
   "outputs": [],
   "source": []
  },
  {
   "cell_type": "code",
   "execution_count": null,
   "id": "492e95f4",
   "metadata": {},
   "outputs": [],
   "source": []
  }
 ],
 "metadata": {
  "kernelspec": {
   "display_name": "Python 3 (ipykernel)",
   "language": "python",
   "name": "python3"
  },
  "language_info": {
   "codemirror_mode": {
    "name": "ipython",
    "version": 3
   },
   "file_extension": ".py",
   "mimetype": "text/x-python",
   "name": "python",
   "nbconvert_exporter": "python",
   "pygments_lexer": "ipython3",
   "version": "3.10.1"
  }
 },
 "nbformat": 4,
 "nbformat_minor": 5
}
