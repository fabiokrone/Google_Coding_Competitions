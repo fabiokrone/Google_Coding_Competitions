{
 "cells": [
  {
   "cell_type": "code",
   "execution_count": null,
   "id": "e4c3ca76",
   "metadata": {},
   "outputs": [],
   "source": [
    "def Solve(N, M, C):\n",
    "    remainder = 0\n",
    "    for i in range(0,N):\n",
    "        remainder = remainder + (C[i] % M)\n",
    "        remainder = remainder % M\n",
    "    return remainder\n",
    "\n",
    "print(Solve(7, 3, [1,2,3,4,5,6,7]))\n",
    "print(Solve(5, 10, [7,7,7,7,7]))\n",
    "print(Solve(6, 5, [1,3,5,7,9,11]))"
   ]
  },
  {
   "cell_type": "code",
   "execution_count": null,
   "id": "11e6f4f0",
   "metadata": {},
   "outputs": [],
   "source": [
    "with open(\"sample_test_set_1.txt\", encoding = 'utf-8') as f:\n",
    "    file = f.read()"
   ]
  }
 ],
 "metadata": {
  "kernelspec": {
   "display_name": "Python 3 (ipykernel)",
   "language": "python",
   "name": "python3"
  },
  "language_info": {
   "codemirror_mode": {
    "name": "ipython",
    "version": 3
   },
   "file_extension": ".py",
   "mimetype": "text/x-python",
   "name": "python",
   "nbconvert_exporter": "python",
   "pygments_lexer": "ipython3",
   "version": "3.9.7"
  }
 },
 "nbformat": 4,
 "nbformat_minor": 5
}
